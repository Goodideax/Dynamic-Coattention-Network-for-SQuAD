{
 "cells": [
  {
   "cell_type": "code",
   "execution_count": 1,
   "metadata": {
    "collapsed": true,
    "deletable": true,
    "editable": true
   },
   "outputs": [],
   "source": [
    "import numpy as np\n",
    "import matplotlib.pyplot as plt\n",
    "%matplotlib inline\n",
    "data_dir = \"../data/squad/\""
   ]
  },
  {
   "cell_type": "markdown",
   "metadata": {
    "deletable": true,
    "editable": true
   },
   "source": [
    "Data Analysis: Paragraph lengths\n",
    "====\n",
    "We need to know what values to put for maximum context length and maximum question length. Hence we have a short look at the data\n"
   ]
  },
  {
   "cell_type": "code",
   "execution_count": 2,
   "metadata": {
    "collapsed": false,
    "deletable": true,
    "editable": true
   },
   "outputs": [],
   "source": [
    "question_filename = data_dir + \"train.ids.question\"\n",
    "context_filename = data_dir + \"train.ids.context\""
   ]
  },
  {
   "cell_type": "code",
   "execution_count": 3,
   "metadata": {
    "collapsed": false,
    "deletable": true,
    "editable": true
   },
   "outputs": [],
   "source": [
    "def len_histo(filename,cut=None):\n",
    "    with open(filename, 'r') as f:\n",
    "        lines=f.readlines()\n",
    "    lines = [line.split() for line in lines] # each line contains a list of words, corresponding e.g. to the context\n",
    "    len_lines=[len(line) for line in lines]\n",
    "    n, bins, patches = plt.hist(len_lines, 50, normed=1, facecolor='green', alpha=0.75)\n",
    "    print(\"min_length={}, max_length={}\".format(min(len_lines),max(len_lines)))\n",
    "    if cut is not None:\n",
    "        ratio=len([x for x in len_lines if x<cut])/len(len_lines)\n",
    "        print(\"ratio when cut: {}\".format(ratio))"
   ]
  },
  {
   "cell_type": "code",
   "execution_count": 10,
   "metadata": {
    "collapsed": false,
    "deletable": true,
    "editable": true
   },
   "outputs": [
    {
     "name": "stdout",
     "output_type": "stream",
     "text": [
      "min_length=1, max_length=60\n",
      "ratio when cut: 0.9989555943282629\n"
     ]
    },
    {
     "data": {
      "text/plain": [
       "<matplotlib.text.Text at 0x7f88a7ddf898>"
      ]
     },
     "execution_count": 10,
     "metadata": {},
     "output_type": "execute_result"
    },
    {
     "data": {
      "image/png": "[encoded data removed]",
      "text/plain": [
       "<matplotlib.figure.Figure at 0x7f88ac9ee780>"
      ]
     },
     "metadata": {},
     "output_type": "display_data"
    }
   ],
   "source": [
    "len_histo(question_filename,cut=30)\n",
    "plt.xlabel(\"question lengths\")\n",
    "plt.ylabel(\"frequency (normalized)\")\n",
    "#plot suggests that we can cut at 30 (99.8956% of the data has length < 30). I we want all, we need to cut at 60"
   ]
  },
  {
   "cell_type": "code",
   "execution_count": 5,
   "metadata": {
    "collapsed": false,
    "deletable": true,
    "editable": true
   },
   "outputs": [
    {
     "name": "stdout",
     "output_type": "stream",
     "text": [
      "min_length=22, max_length=766\n",
      "ratio when cut: 0.998046347037574\n"
     ]
    },
    {
     "data": {
      "text/plain": [
       "<matplotlib.text.Text at 0x7f888dc595c0>"
      ]
     },
     "execution_count": 5,
     "metadata": {},
     "output_type": "execute_result"
    },
    {
     "data": {
      "image/png": "[encoded data removed]",
      "text/plain": [
       "<matplotlib.figure.Figure at 0x7f888dc42b00>"
      ]
     },
     "metadata": {},
     "output_type": "display_data"
    }
   ],
   "source": [
    "len_histo(context_filename, cut=400)\n",
    "plt.title(\"context_lengths\")\n",
    "#plot suggests that we can cut at 400 (99.8% of the data has length < 400). I we want all, we need to cut at 766"
   ]
  },
  {
   "cell_type": "markdown",
   "metadata": {
    "deletable": true,
    "editable": true
   },
   "source": [
    "Data Analysis: Corrupt data\n",
    "====\n",
    "Looking at the train.span file, we can see some cases, where no valid span is given:\n"
   ]
  },
  {
   "cell_type": "code",
   "execution_count": 6,
   "metadata": {
    "collapsed": false,
    "deletable": true,
    "editable": true
   },
   "outputs": [
    {
     "name": "stdout",
     "output_type": "stream",
     "text": [
      "min_length=-2.0, max_length=45.0\n"
     ]
    },
    {
     "data": {
      "text/plain": [
       "<matplotlib.text.Text at 0x7f88ac9f9e48>"
      ]
     },
     "execution_count": 6,
     "metadata": {},
     "output_type": "execute_result"
    },
    {
     "data": {
      "image/png": "[encoded data removed]",
      "text/plain": [
       "<matplotlib.figure.Figure at 0x7f888dc2dfd0>"
      ]
     },
     "metadata": {},
     "output_type": "display_data"
    }
   ],
   "source": [
    "d=np.loadtxt(data_dir + \"train.span\")\n",
    "answer_length = d[:,1]-d[:,0]\n",
    "n, bins, patches = plt.hist(answer_length, 50, normed=1, facecolor='green', alpha=0.75)\n",
    "print(\"min_length={}, max_length={}\".format(min(answer_length),max(answer_length)))\n",
    "plt.title(\"answer_lengths\")"
   ]
  },
  {
   "cell_type": "code",
   "execution_count": 7,
   "metadata": {
    "collapsed": false,
    "deletable": true,
    "editable": true
   },
   "outputs": [
    {
     "data": {
      "text/plain": [
       "(array([ 1802,  2858,  4323,  4954,  6478,  6672,  7342,  7406,  8159,\n",
       "         8650,  9207, 18167, 18276, 21975, 24505, 25808, 26453, 26689,\n",
       "        26997, 27618, 27709, 30861, 31000, 34618, 35417, 35555, 36834,\n",
       "        37054, 39622, 40204, 42874, 44988, 45804, 47301, 49219, 50591,\n",
       "        50713, 51622, 51672, 51676, 56327, 58202, 60922, 62170, 63808,\n",
       "        64212, 64337, 66971, 67253, 70787, 73841, 74088, 74278, 75072,\n",
       "        76004, 78799, 79147, 79837]),)"
      ]
     },
     "execution_count": 7,
     "metadata": {},
     "output_type": "execute_result"
    }
   ],
   "source": [
    "np.where(d[:,1]<d[:,0]) # in these cases, the generation of id's fails"
   ]
  },
  {
   "cell_type": "code",
   "execution_count": 8,
   "metadata": {
    "collapsed": false,
    "deletable": true,
    "editable": true
   },
   "outputs": [
    {
     "name": "stdout",
     "output_type": "stream",
     "text": [
      "n_answers=81386\n",
      "n_corrupt_answers=58\n",
      "n_corrupt_answers/n_answers=0.0007126532818912344\n"
     ]
    }
   ],
   "source": [
    "n_answers=len(d)\n",
    "n_corrupt_answers=len(np.where(d[:,1]<d[:,0])[0])\n",
    "print(\"n_answers={}\\nn_corrupt_answers={}\\nn_corrupt_answers/n_answers={}\".format(\n",
    "    n_answers,n_corrupt_answers,n_corrupt_answers/n_answers))\n",
    "# the number of corrupt answers is negligible for now"
   ]
  }
 ],
 "metadata": {
  "kernelspec": {
   "display_name": "Python 3",
   "language": "python",
   "name": "python3"
  },
  "language_info": {
   "codemirror_mode": {
    "name": "ipython",
    "version": 3
   },
   "file_extension": ".py",
   "mimetype": "text/x-python",
   "name": "python",
   "nbconvert_exporter": "python",
   "pygments_lexer": "ipython3",
   "version": "3.4.3"
  }
 },
 "nbformat": 4,
 "nbformat_minor": 2
}
